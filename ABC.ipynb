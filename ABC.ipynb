{
 "cells": [
  {
   "cell_type": "code",
   "execution_count": 10,
   "id": "b6abdf3d",
   "metadata": {},
   "outputs": [
    {
     "name": "stdout",
     "output_type": "stream",
     "text": [
      "Skynet has awaken\n"
     ]
    }
   ],
   "source": [
    "print(\"Skynet has awaken\")\n"
   ]
  },
  {
   "cell_type": "code",
   "execution_count": 11,
   "id": "723f09b6",
   "metadata": {},
   "outputs": [
    {
     "name": "stdout",
     "output_type": "stream",
     "text": [
      "3\n"
     ]
    }
   ],
   "source": [
    "X=1\n",
    "Y=2\n",
    "Z=X+Y \n",
    "print(Z)"
   ]
  },
  {
   "cell_type": "markdown",
   "id": "501f6684",
   "metadata": {},
   "source": [
    "\n",
    "# TÍTULOS #\n",
    "## Sub Títulos ##\n",
    "### Otros Títulos ###"
   ]
  },
  {
   "cell_type": "code",
   "execution_count": 12,
   "id": "ce1b187a",
   "metadata": {},
   "outputs": [],
   "source": [
    "nombre = \"Juan\"\n",
    "edad = 25\n",
    "altura = 1.80\n",
    "es_estudiante = True"
   ]
  },
  {
   "cell_type": "code",
   "execution_count": 13,
   "id": "f139d508",
   "metadata": {},
   "outputs": [
    {
     "name": "stdout",
     "output_type": "stream",
     "text": [
      "Juan\n",
      "25\n",
      "1.8\n",
      "True\n"
     ]
    }
   ],
   "source": [
    "print(nombre)\n",
    "print(edad)\n",
    "print(altura)\n",
    "print(es_estudiante)\n"
   ]
  },
  {
   "cell_type": "code",
   "execution_count": 14,
   "id": "573b640d",
   "metadata": {},
   "outputs": [
    {
     "name": "stdout",
     "output_type": "stream",
     "text": [
      "Número original: 10\n",
      "Número nuevo: 60\n"
     ]
    }
   ],
   "source": [
    "mi_numero = 10\n",
    "print(f\"Número original: {mi_numero}\")\n",
    "\n",
    "mi_numero = 60\n",
    "print(f\"Número nuevo: {mi_numero}\")"
   ]
  },
  {
   "cell_type": "code",
   "execution_count": 15,
   "id": "8cff0ded",
   "metadata": {},
   "outputs": [
    {
     "name": "stdout",
     "output_type": "stream",
     "text": [
      "25\n"
     ]
    }
   ],
   "source": [
    "print(edad)\n"
   ]
  },
  {
   "cell_type": "code",
   "execution_count": 18,
   "id": "3ce43c82",
   "metadata": {},
   "outputs": [
    {
     "name": "stdout",
     "output_type": "stream",
     "text": [
      "Edad del paciente:25\n"
     ]
    }
   ],
   "source": [
    "print(f\"Edad del paciente:{edad}\")\n"
   ]
  },
  {
   "cell_type": "code",
   "execution_count": 19,
   "id": "52dd6224",
   "metadata": {},
   "outputs": [],
   "source": [
    "\n",
    "num_int1 = 123\n",
    "num_int2 = -57"
   ]
  },
  {
   "cell_type": "code",
   "execution_count": 21,
   "id": "f95ce0d2",
   "metadata": {},
   "outputs": [],
   "source": [
    "bool_var1 = True\n",
    "bool_var2 = False\n"
   ]
  },
  {
   "cell_type": "code",
   "execution_count": 23,
   "id": "49ed31ae",
   "metadata": {},
   "outputs": [
    {
     "name": "stdout",
     "output_type": "stream",
     "text": [
      "True\n"
     ]
    }
   ],
   "source": [
    "print(bool_var1)"
   ]
  },
  {
   "cell_type": "code",
   "execution_count": 24,
   "id": "6db07fc9",
   "metadata": {},
   "outputs": [
    {
     "data": {
      "text/plain": [
       "False"
      ]
     },
     "execution_count": 24,
     "metadata": {},
     "output_type": "execute_result"
    }
   ],
   "source": [
    "bool_var2"
   ]
  },
  {
   "cell_type": "code",
   "execution_count": 26,
   "id": "173f52cd",
   "metadata": {},
   "outputs": [
    {
     "data": {
      "text/plain": [
       "1"
      ]
     },
     "execution_count": 26,
     "metadata": {},
     "output_type": "execute_result"
    }
   ],
   "source": [
    "X\n"
   ]
  },
  {
   "cell_type": "code",
   "execution_count": 28,
   "id": "e2a2c700",
   "metadata": {},
   "outputs": [
    {
     "name": "stdout",
     "output_type": "stream",
     "text": [
      "True\n",
      "False\n"
     ]
    }
   ],
   "source": [
    "print(bool_var1)\n",
    "print(bool_var2)"
   ]
  },
  {
   "cell_type": "code",
   "execution_count": 29,
   "id": "6c17b862",
   "metadata": {},
   "outputs": [],
   "source": [
    "list_numbers = [1, 2, 3, 4, 5]\n",
    "list_strings = [\"A\", \"B\", \"C\", \"D\"]"
   ]
  },
  {
   "cell_type": "code",
   "execution_count": 30,
   "id": "fd2e300e",
   "metadata": {},
   "outputs": [
    {
     "name": "stdout",
     "output_type": "stream",
     "text": [
      "[1, 2, 3, 4, 5]\n",
      "['A', 'B', 'C', 'D']\n"
     ]
    }
   ],
   "source": [
    "print(list_numbers)\n",
    "print(list_strings)"
   ]
  },
  {
   "cell_type": "code",
   "execution_count": 33,
   "id": "44b2a077",
   "metadata": {},
   "outputs": [
    {
     "data": {
      "text/plain": [
       "'D'"
      ]
     },
     "execution_count": 33,
     "metadata": {},
     "output_type": "execute_result"
    }
   ],
   "source": [
    "list_strings[3]"
   ]
  },
  {
   "cell_type": "code",
   "execution_count": 39,
   "id": "b45513e5",
   "metadata": {},
   "outputs": [
    {
     "name": "stdout",
     "output_type": "stream",
     "text": [
      "Valor de Mercado del ETF: 850.0\n"
     ]
    }
   ],
   "source": [
    "Val_Nom = 1000\n",
    "Px_Mer = 85\n",
    "Val_Mer = (Val_Nom * Px_Mer) / 100\n",
    "print(f\"Valor de Mercado del ETF: {Val_Mer}\") "
   ]
  }
 ],
 "metadata": {
  "kernelspec": {
   "display_name": "Python 3",
   "language": "python",
   "name": "python3"
  },
  "language_info": {
   "codemirror_mode": {
    "name": "ipython",
    "version": 3
   },
   "file_extension": ".py",
   "mimetype": "text/x-python",
   "name": "python",
   "nbconvert_exporter": "python",
   "pygments_lexer": "ipython3",
   "version": "3.12.1"
  }
 },
 "nbformat": 4,
 "nbformat_minor": 5
}
